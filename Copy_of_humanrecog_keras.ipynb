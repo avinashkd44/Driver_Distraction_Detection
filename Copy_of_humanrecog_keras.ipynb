{
  "nbformat": 4,
  "nbformat_minor": 0,
  "metadata": {
    "colab": {
      "name": "Copy of humanrecog_keras.ipynb",
      "version": "0.3.2",
      "provenance": [],
      "collapsed_sections": []
    },
    "kernelspec": {
      "name": "python3",
      "display_name": "Python 3"
    }
  },
  "cells": [
    {
      "metadata": {
        "colab_type": "code",
        "id": "JUoJITQ_fRrU",
        "outputId": "7f461d8c-8f0d-4352-e6d6-166d51825f4a",
        "colab": {
          "base_uri": "https://localhost:8080/",
          "height": 323
        }
      },
      "cell_type": "code",
      "source": [
        "pip install git+git://github.com/avinashkd44/keras.git --upgrade  # You will get here eigenvaluedecay regularizer for tensorflow backend. "
      ],
      "execution_count": 1,
      "outputs": [
        {
          "output_type": "stream",
          "text": [
            "Collecting git+git://github.com/avinashkd44/keras.git\n",
            "  Cloning git://github.com/avinashkd44/keras.git to /tmp/pip-req-build-xf17w53c\n",
            "Requirement already satisfied, skipping upgrade: numpy>=1.9.1 in /usr/local/lib/python3.6/dist-packages (from Keras==2.2.4) (1.14.6)\n",
            "Requirement already satisfied, skipping upgrade: scipy>=0.14 in /usr/local/lib/python3.6/dist-packages (from Keras==2.2.4) (1.1.0)\n",
            "Requirement already satisfied, skipping upgrade: six>=1.9.0 in /usr/local/lib/python3.6/dist-packages (from Keras==2.2.4) (1.11.0)\n",
            "Requirement already satisfied, skipping upgrade: pyyaml in /usr/local/lib/python3.6/dist-packages (from Keras==2.2.4) (3.13)\n",
            "Requirement already satisfied, skipping upgrade: h5py in /usr/local/lib/python3.6/dist-packages (from Keras==2.2.4) (2.8.0)\n",
            "Requirement already satisfied, skipping upgrade: keras_applications>=1.0.6 in /usr/local/lib/python3.6/dist-packages (from Keras==2.2.4) (1.0.7)\n",
            "Requirement already satisfied, skipping upgrade: keras_preprocessing>=1.0.5 in /usr/local/lib/python3.6/dist-packages (from Keras==2.2.4) (1.0.9)\n",
            "Building wheels for collected packages: Keras\n",
            "  Building wheel for Keras (setup.py) ... \u001b[?25ldone\n",
            "\u001b[?25h  Stored in directory: /tmp/pip-ephem-wheel-cache-6yxczoa4/wheels/06/40/64/3b72d52a4c1f9bbc237a7f506fde596520e0efa0e2c058ace2\n",
            "Successfully built Keras\n",
            "Installing collected packages: Keras\n",
            "  Found existing installation: Keras 2.2.4\n",
            "    Uninstalling Keras-2.2.4:\n",
            "      Successfully uninstalled Keras-2.2.4\n",
            "Successfully installed Keras-2.2.4\n"
          ],
          "name": "stdout"
        }
      ]
    },
    {
      "metadata": {
        "id": "ALkFhoqXsgH8",
        "colab_type": "code",
        "colab": {
          "base_uri": "https://localhost:8080/",
          "height": 187
        },
        "outputId": "d89ec071-57fb-453f-fedd-2bce5954c24d"
      },
      "cell_type": "code",
      "source": [
        "pip show keras # you can check keras version"
      ],
      "execution_count": 5,
      "outputs": [
        {
          "output_type": "stream",
          "text": [
            "Name: Keras\n",
            "Version: 2.2.4\n",
            "Summary: Deep Learning for humans\n",
            "Home-page: https://github.com/keras-team/keras\n",
            "Author: Francois Chollet\n",
            "Author-email: francois.chollet@gmail.com\n",
            "License: MIT\n",
            "Location: /usr/local/lib/python3.6/dist-packages\n",
            "Requires: keras-preprocessing, scipy, h5py, keras-applications, numpy, six, pyyaml\n",
            "Required-by: \n"
          ],
          "name": "stdout"
        }
      ]
    },
    {
      "metadata": {
        "id": "Z1G_qrU8sVyA",
        "colab_type": "code",
        "colab": {
          "base_uri": "https://localhost:8080/",
          "height": 51
        },
        "outputId": "d7b0fb02-b052-4c6d-8454-d9bc4bacf3fd"
      },
      "cell_type": "code",
      "source": [
        "'''This script reuses pieces of code from the post:\n",
        "\"Building powerful image classification models using very little data\"\n",
        "from blog.keras.io\n",
        "and from:\n",
        "https://www.kaggle.com/tnhabc/state-farm-distracted-driver-detection/keras-sample\n",
        "The training data can be downloaded at:\n",
        "https://www.kaggle.com/c/state-farm-distracted-driver-detection/data\n",
        "'''\n",
        "\n",
        "import os\n",
        "import h5py\n",
        "import numpy as np\n",
        "from keras.preprocessing.image import ImageDataGenerator\n",
        "from keras import optimizers\n",
        "from keras.models import Sequential\n",
        "from keras.layers import Convolution2D, MaxPooling2D, ZeroPadding2D\n",
        "from keras.layers import Activation, Dropout, Flatten, Dense\n",
        "from keras.regularizers import EigenvalueRegularizer\n",
        "from numpy.random import permutation\n",
        "from keras.optimizers import SGD\n",
        "import pandas as pd\n",
        "import datetime\n",
        "import glob\n",
        "import cv2\n",
        "import math\n",
        "import pickle\n",
        "from collections import OrderedDict\n",
        "from keras import backend as K\n",
        "import tensorflow as tf\n",
        "from keras.models import load_model\n",
        "from keras.utils.conv_utils import convert_kernel\n",
        "import keras.backend.tensorflow_backend as K\n",
        "K.set_session\n",
        "#from keras.utils.conv_utils import convert_kernel\n"
      ],
      "execution_count": 2,
      "outputs": [
        {
          "output_type": "stream",
          "text": [
            "Using TensorFlow backend.\n"
          ],
          "name": "stderr"
        },
        {
          "output_type": "execute_result",
          "data": {
            "text/plain": [
              "<function keras.backend.tensorflow_backend.set_session>"
            ]
          },
          "metadata": {
            "tags": []
          },
          "execution_count": 2
        }
      ]
    },
    {
      "metadata": {
        "id": "Fnv9D1mqLWwb",
        "colab_type": "code",
        "outputId": "3903c241-e457-4c52-a5e7-5d61e2f2ded4",
        "colab": {
          "base_uri": "https://localhost:8080/",
          "height": 34
        }
      },
      "cell_type": "code",
      "source": [
        "from google.colab import drive      # you can mount your Google drive to use it as training/testing file location\n",
        "drive.mount('/content/gdrive')"
      ],
      "execution_count": 3,
      "outputs": [
        {
          "output_type": "stream",
          "text": [
            "Drive already mounted at /content/gdrive; to attempt to forcibly remount, call drive.mount(\"/content/gdrive\", force_remount=True).\n"
          ],
          "name": "stdout"
        }
      ]
    },
    {
      "metadata": {
        "id": "04kC_2QXVE8y",
        "colab_type": "code",
        "colab": {}
      },
      "cell_type": "code",
      "source": [
        "train_data = '/content/gdrive/My Drive/datascience/train'    # locate your Data"
      ],
      "execution_count": 0,
      "outputs": []
    },
    {
      "metadata": {
        "id": "26rNMOZLWSbx",
        "colab_type": "code",
        "outputId": "e632cf17-f701-45ad-a33e-5a08123f0b1d",
        "colab": {
          "base_uri": "https://localhost:8080/",
          "height": 34
        }
      },
      "cell_type": "code",
      "source": [
        "train_data # you can check its loaded or not"
      ],
      "execution_count": 0,
      "outputs": [
        {
          "output_type": "execute_result",
          "data": {
            "text/plain": [
              "'/content/gdrive/My Drive/datascience/train'"
            ]
          },
          "metadata": {
            "tags": []
          },
          "execution_count": 12
        }
      ]
    },
    {
      "metadata": {
        "id": "Fxa_eQz0WVAq",
        "colab_type": "code",
        "outputId": "d82bd6d9-f2c3-451d-8ef1-8f023d734d58",
        "colab": {
          "base_uri": "https://localhost:8080/",
          "height": 34
        }
      },
      "cell_type": "code",
      "source": [
        "import os\n",
        "os.listdir('/content/gdrive/My Drive/datascience/train')    # list your training folders"
      ],
      "execution_count": 7,
      "outputs": [
        {
          "output_type": "execute_result",
          "data": {
            "text/plain": [
              "['c9', 'c1', 'c8', 'c7', 'c0', 'c4', 'c6', 'c2', 'c5', 'c3']"
            ]
          },
          "metadata": {
            "tags": []
          },
          "execution_count": 7
        }
      ]
    },
    {
      "metadata": {
        "id": "tnNAQI4_QN9f",
        "colab_type": "code",
        "colab": {}
      },
      "cell_type": "code",
      "source": [
        "\n",
        "# Enter here the path to the model weights files:\n",
        "weights_path = '/content/gdrive/My Drive/datascience/human action recog/vgg16_weights.h5'             # your vgg16_weights path\n",
        "\n",
        "# Enter here the path to the top-model weights files:\n",
        "top_model_weights_path = '/content/gdrive/My Drive/datascience/human action recog/fc_model.h5'        #your vgg16_model.h5path\n",
        "\n",
        "# Enter here the path for storage of the whole model weights (VGG16+top classifier model):\n",
        "whole_model_weights_path = '/content/gdrive/My Drive/datascience/human action recog/whole_model.h5'   # your whole_model.h5 path\n",
        "\n",
        "# Enter here the name of the folder that contains the folders c0, c1,..., c9, with the training images belonging to classes 0 to 9:\n",
        "train_data_dir = '/content/gdrive/My Drive/datascience/train'       # your training floder path\n",
        "\n",
        "# Enter here the name of the folder where is the test images (the data evalueted in the private leaderboard):\n",
        "test_data_dir = '/content/gdrive/My Drive/datascience/test'         # your test data path\n",
        "\n",
        "test_images_path = '/content/gdrive/My Drive/datascience/test'      # your test image path could be same as test_data_dir\n",
        "\n",
        "# Enter here the features of the data set:\n",
        "img_width, img_height = 224, 224\n",
        "nb_train_samples = 22424\n",
        "nb_test_samples = 79726\n",
        "color_type_global = 3\n",
        "\n",
        "# You can set larger values here, according with the memory of your GPU:\n",
        "batch_size = 32\n",
        "\n",
        "# Enter here the number of training epochs (with 80 epochs the model was positioned among\n",
        "# the 29% best competitors in the private leaderboard of state-farm-distracted-driver-detection)\n",
        "# According to our results, this model can achieve a better performance if trained along a larger \n",
        "# number of epochs, due to the agressive regularization with Eigenvalue Decay that was adopted.\n",
        "nb_epoch = 80\n",
        "\n",
        "#Enter here the path for the whole model (VGG16+top classifier model):\n",
        "#whole_model_weights_path = '/home/oswaldo/video_classification/competitionKaggle/whole_model.h5'\n"
      ],
      "execution_count": 0,
      "outputs": []
    },
    {
      "metadata": {
        "id": "6aKlRhIpRQHX",
        "colab_type": "code",
        "colab": {}
      },
      "cell_type": "code",
      "source": [
        "K.set_image_dim_ordering('tf')\n"
      ],
      "execution_count": 0,
      "outputs": []
    },
    {
      "metadata": {
        "id": "jwgZOrbGQU21",
        "colab_type": "code",
        "outputId": "64ae3785-7e55-412b-c034-47278b1bd77d",
        "colab": {
          "base_uri": "https://localhost:8080/",
          "height": 513
        }
      },
      "cell_type": "code",
      "source": [
        "\n",
        "# build the VGG16 network:\n",
        "#model.add(MaxPooling2D(pool_size=(2, 2), dim_ordering=\"tf\"))\n",
        "model = Sequential()\n",
        "model.add(ZeroPadding2D((1, 1), input_shape=(img_height,img_width,3 )))\n",
        "\n",
        "model.add(Convolution2D(64, 3, 3, activation='relu', name='conv1_1'))\n",
        "model.add(ZeroPadding2D((1, 1)))\n",
        "model.add(Convolution2D(64, 3, 3, activation='relu', name='conv1_2'))\n",
        "model.add(MaxPooling2D((2, 2), strides=(2, 2), dim_ordering=\"tf\"))\n",
        "\n",
        "model.add(ZeroPadding2D((1, 1)))\n",
        "model.add(Convolution2D(128, 3, 3, activation='relu', name='conv2_1'))\n",
        "model.add(ZeroPadding2D((1, 1)))\n",
        "model.add(Convolution2D(128, 3, 3, activation='relu', name='conv2_2'))\n",
        "model.add(MaxPooling2D((2, 2), strides=(2, 2), dim_ordering=\"tf\"))\n",
        "\n",
        "model.add(ZeroPadding2D((1, 1)))\n",
        "model.add(Convolution2D(256, 3, 3, activation='relu', name='conv3_1'))\n",
        "model.add(ZeroPadding2D((1, 1)))\n",
        "model.add(Convolution2D(256, 3, 3, activation='relu', name='conv3_2'))\n",
        "model.add(ZeroPadding2D((1, 1)))\n",
        "model.add(Convolution2D(256, 3, 3, activation='relu', name='conv3_3'))\n",
        "model.add(MaxPooling2D((2, 2), strides=(2, 2),dim_ordering=\"tf\"))\n",
        "\n",
        "model.add(ZeroPadding2D((1, 1)))\n",
        "model.add(Convolution2D(512, 3, 3, activation='relu', name='conv4_1'))\n",
        "model.add(ZeroPadding2D((1, 1)))\n",
        "model.add(Convolution2D(512, 3, 3, activation='relu', name='conv4_2'))\n",
        "model.add(ZeroPadding2D((1, 1)))\n",
        "model.add(Convolution2D(512, 3, 3, activation='relu', name='conv4_3'))\n",
        "model.add(MaxPooling2D((2, 2), strides=(2, 2),dim_ordering=\"tf\"))\n",
        "\n",
        "model.add(ZeroPadding2D((1, 1)))\n",
        "model.add(Convolution2D(512, 3, 3, activation='relu', name='conv5_1'))\n",
        "model.add(ZeroPadding2D((1, 1)))\n",
        "model.add(Convolution2D(512, 3, 3, activation='relu', name='conv5_2'))\n",
        "model.add(ZeroPadding2D((1, 1)))\n",
        "model.add(Convolution2D(512, 3, 3, activation='relu', name='conv5_3'))\n",
        "model.add(MaxPooling2D((2, 2), strides=(2, 2),dim_ordering=\"tf\"))\n",
        "\n"
      ],
      "execution_count": 10,
      "outputs": [
        {
          "output_type": "stream",
          "text": [
            "WARNING:tensorflow:From /usr/local/lib/python3.6/dist-packages/tensorflow/python/framework/op_def_library.py:263: colocate_with (from tensorflow.python.framework.ops) is deprecated and will be removed in a future version.\n",
            "Instructions for updating:\n",
            "Colocations handled automatically by placer.\n"
          ],
          "name": "stdout"
        },
        {
          "output_type": "stream",
          "text": [
            "/usr/local/lib/python3.6/dist-packages/ipykernel_launcher.py:4: UserWarning: Update your `Conv2D` call to the Keras 2 API: `Conv2D(64, (3, 3), activation=\"relu\", name=\"conv1_1\")`\n",
            "  after removing the cwd from sys.path.\n",
            "/usr/local/lib/python3.6/dist-packages/ipykernel_launcher.py:6: UserWarning: Update your `Conv2D` call to the Keras 2 API: `Conv2D(64, (3, 3), activation=\"relu\", name=\"conv1_2\")`\n",
            "  \n",
            "/usr/local/lib/python3.6/dist-packages/ipykernel_launcher.py:7: UserWarning: Update your `MaxPooling2D` call to the Keras 2 API: `MaxPooling2D((2, 2), strides=(2, 2), data_format=\"channels_last\")`\n",
            "  import sys\n",
            "/usr/local/lib/python3.6/dist-packages/ipykernel_launcher.py:10: UserWarning: Update your `Conv2D` call to the Keras 2 API: `Conv2D(128, (3, 3), activation=\"relu\", name=\"conv2_1\")`\n",
            "  # Remove the CWD from sys.path while we load stuff.\n",
            "/usr/local/lib/python3.6/dist-packages/ipykernel_launcher.py:12: UserWarning: Update your `Conv2D` call to the Keras 2 API: `Conv2D(128, (3, 3), activation=\"relu\", name=\"conv2_2\")`\n",
            "  if sys.path[0] == '':\n",
            "/usr/local/lib/python3.6/dist-packages/ipykernel_launcher.py:13: UserWarning: Update your `MaxPooling2D` call to the Keras 2 API: `MaxPooling2D((2, 2), strides=(2, 2), data_format=\"channels_last\")`\n",
            "  del sys.path[0]\n",
            "/usr/local/lib/python3.6/dist-packages/ipykernel_launcher.py:16: UserWarning: Update your `Conv2D` call to the Keras 2 API: `Conv2D(256, (3, 3), activation=\"relu\", name=\"conv3_1\")`\n",
            "  app.launch_new_instance()\n",
            "/usr/local/lib/python3.6/dist-packages/ipykernel_launcher.py:18: UserWarning: Update your `Conv2D` call to the Keras 2 API: `Conv2D(256, (3, 3), activation=\"relu\", name=\"conv3_2\")`\n",
            "/usr/local/lib/python3.6/dist-packages/ipykernel_launcher.py:20: UserWarning: Update your `Conv2D` call to the Keras 2 API: `Conv2D(256, (3, 3), activation=\"relu\", name=\"conv3_3\")`\n",
            "/usr/local/lib/python3.6/dist-packages/ipykernel_launcher.py:21: UserWarning: Update your `MaxPooling2D` call to the Keras 2 API: `MaxPooling2D((2, 2), strides=(2, 2), data_format=\"channels_last\")`\n",
            "/usr/local/lib/python3.6/dist-packages/ipykernel_launcher.py:24: UserWarning: Update your `Conv2D` call to the Keras 2 API: `Conv2D(512, (3, 3), activation=\"relu\", name=\"conv4_1\")`\n",
            "/usr/local/lib/python3.6/dist-packages/ipykernel_launcher.py:26: UserWarning: Update your `Conv2D` call to the Keras 2 API: `Conv2D(512, (3, 3), activation=\"relu\", name=\"conv4_2\")`\n",
            "/usr/local/lib/python3.6/dist-packages/ipykernel_launcher.py:28: UserWarning: Update your `Conv2D` call to the Keras 2 API: `Conv2D(512, (3, 3), activation=\"relu\", name=\"conv4_3\")`\n",
            "/usr/local/lib/python3.6/dist-packages/ipykernel_launcher.py:29: UserWarning: Update your `MaxPooling2D` call to the Keras 2 API: `MaxPooling2D((2, 2), strides=(2, 2), data_format=\"channels_last\")`\n",
            "/usr/local/lib/python3.6/dist-packages/ipykernel_launcher.py:32: UserWarning: Update your `Conv2D` call to the Keras 2 API: `Conv2D(512, (3, 3), activation=\"relu\", name=\"conv5_1\")`\n",
            "/usr/local/lib/python3.6/dist-packages/ipykernel_launcher.py:34: UserWarning: Update your `Conv2D` call to the Keras 2 API: `Conv2D(512, (3, 3), activation=\"relu\", name=\"conv5_2\")`\n",
            "/usr/local/lib/python3.6/dist-packages/ipykernel_launcher.py:36: UserWarning: Update your `Conv2D` call to the Keras 2 API: `Conv2D(512, (3, 3), activation=\"relu\", name=\"conv5_3\")`\n",
            "/usr/local/lib/python3.6/dist-packages/ipykernel_launcher.py:37: UserWarning: Update your `MaxPooling2D` call to the Keras 2 API: `MaxPooling2D((2, 2), strides=(2, 2), data_format=\"channels_last\")`\n"
          ],
          "name": "stderr"
        }
      ]
    },
    {
      "metadata": {
        "id": "IZKr0wjKTwIX",
        "colab_type": "code",
        "outputId": "9dfab847-7844-421d-ac3c-364f07c1d349",
        "colab": {
          "base_uri": "https://localhost:8080/",
          "height": 71
        }
      },
      "cell_type": "code",
      "source": [
        "# loading the weights of the pre-trained VGG16:\n",
        "# this is conversion from Theano backend to tensorflow\n",
        "\n",
        "\n",
        "#assert os.path.exists(weights_path), 'Model weights not found (see \"weights_path\" variable in script).'\n",
        "old = h5py.File(weights_path)\n",
        "ops = []\n",
        "for layer in model.layers:\n",
        "   if layer.__class__.__name__ in ['Convolution1D', 'Convolution2D', 'Convolution3D', 'AtrousConvolution2D']:\n",
        "      original_w = K.get_value(old)\n",
        "      converted_w = convert_kernel(original_w)\n",
        "      ops.append(tf.assign(old, converted_w).op)\n",
        "      #model.layers[k].set_weights(weights)\n",
        "K.get_session().run(ops)\n",
        "model.save_weights('my_weights_tensorflow.h5') # loaded as tensorflow backend\n",
        "old.close()\n",
        "print('model loaded')\n",
        "# now my new weight is my_weights_tensorflow.h5 of vgg16 model. so now repeat.\n",
        "'''f = h5py.File(my_weights_tensorflow.h5)\n",
        "for k in range(f.attrs['nb_layers']):\n",
        "    if k >= len(model.layers):\n",
        "        break\n",
        "    g = f['layer_{}'.format(k)]\n",
        "    weights = [g['param_{}'.format(p)] for p in range(g.attrs['nb_params'])]\n",
        "    model.layers[k].set_weights(weights)\n",
        "f.close()\n",
        "print('Model loaded.')'''"
      ],
      "execution_count": 0,
      "outputs": [
        {
          "output_type": "stream",
          "text": [
            "model loaded\n"
          ],
          "name": "stdout"
        },
        {
          "output_type": "execute_result",
          "data": {
            "text/plain": [
              "\"f = h5py.File(my_weights_tensorflow.h5)\\nfor k in range(f.attrs['nb_layers']):\\n    if k >= len(model.layers):\\n        break\\n    g = f['layer_{}'.format(k)]\\n    weights = [g['param_{}'.format(p)] for p in range(g.attrs['nb_params'])]\\n    model.layers[k].set_weights(weights)\\nf.close()\\nprint('Model loaded.')\""
            ]
          },
          "metadata": {
            "tags": []
          },
          "execution_count": 5
        }
      ]
    },
    {
      "metadata": {
        "id": "cI5ntFcxT1I4",
        "colab_type": "code",
        "outputId": "e3ae34a4-7996-406c-c5d2-65d71eae433b",
        "colab": {
          "base_uri": "https://localhost:8080/",
          "height": 105
        }
      },
      "cell_type": "code",
      "source": [
        "# Pooja look here - https://github.com/poojab5/keras/blob/master/keras/regularizers.py - line 110 - p is not defined. make it defined globaly\n",
        "# https://github.com/avinashkd44/keras/blob/master/keras/regularizers.py   - mine\n",
        "\n",
        "\n",
        "# building a classifier model on top of the convolutional model:\n",
        "\n",
        "top_model = Sequential()\n",
        "top_model.add(Flatten(input_shape=model.output_shape[1:]))\n",
        "top_model.add(Dense(64, activation='relu', W_regularizer=EigenvalueRegularizer(10)))\n",
        "top_model.add(Dense(10, activation='softmax', W_regularizer=EigenvalueRegularizer(10)))\n",
        "top_model.load_weights(top_model_weights_path)\n",
        "\n",
        "# add the model on top of the convolutional base\n",
        "model.add(top_model)\n"
      ],
      "execution_count": 11,
      "outputs": [
        {
          "output_type": "stream",
          "text": [
            "/usr/local/lib/python3.6/dist-packages/ipykernel_launcher.py:4: UserWarning: Update your `Dense` call to the Keras 2 API: `Dense(64, activation=\"relu\", kernel_regularizer=<keras.reg...)`\n",
            "  after removing the cwd from sys.path.\n",
            "/usr/local/lib/python3.6/dist-packages/ipykernel_launcher.py:5: UserWarning: Update your `Dense` call to the Keras 2 API: `Dense(10, activation=\"softmax\", kernel_regularizer=<keras.reg...)`\n",
            "  \"\"\"\n"
          ],
          "name": "stderr"
        }
      ]
    },
    {
      "metadata": {
        "id": "wMcHMIhuDoBq",
        "colab_type": "code",
        "colab": {}
      },
      "cell_type": "code",
      "source": [
        "# setting the first 15 layers to non-trainable (the original weights will not be updated)\n",
        "for layer in model.layers[:15]:\n",
        "  layer.trainable = False\n",
        "\n",
        "# Compiling the model with a SGD/momentum optimizer:\n",
        "\n",
        "model.compile(loss = \"categorical_crossentropy\",\n",
        "              optimizer=optimizers.SGD(lr=1e-6, momentum=0.9),\n",
        "              metrics=['mean_squared_logarithmic_error', 'accuracy'])\n"
      ],
      "execution_count": 0,
      "outputs": []
    },
    {
      "metadata": {
        "id": "tuGaWUT0Pk0N",
        "colab_type": "code",
        "outputId": "1ae3fc40-6573-4daa-ef5f-22f94188a91b",
        "colab": {
          "base_uri": "https://localhost:8080/",
          "height": 68
        }
      },
      "cell_type": "code",
      "source": [
        "# Data augmentation:\n",
        "\n",
        "train_datagen = ImageDataGenerator(shear_range=0.3, zoom_range=0.3, rotation_range=0.3)\n",
        "test_datagen = ImageDataGenerator()\n",
        "\n",
        "print('trainning')\n",
        "train_generator = train_datagen.flow_from_directory(\n",
        "        train_data_dir,\n",
        "        target_size=(img_height, img_width),\n",
        "        batch_size=32,\n",
        "        class_mode='categorical')\n",
        "  \n",
        "\n",
        "print('testing')"
      ],
      "execution_count": 13,
      "outputs": [
        {
          "output_type": "stream",
          "text": [
            "trainning\n",
            "Found 7704 images belonging to 10 classes.\n",
            "testing\n"
          ],
          "name": "stdout"
        }
      ]
    },
    {
      "metadata": {
        "id": "L3CemQVgPvaI",
        "colab_type": "code",
        "outputId": "bb292b76-6a35-4015-f5f3-be70c909ab12",
        "colab": {
          "base_uri": "https://localhost:8080/",
          "height": 51
        }
      },
      "cell_type": "code",
      "source": [
        "test_generator = test_datagen.flow_from_directory(\n",
        "        test_data_dir,\n",
        "        target_size=(img_height, img_width),\n",
        "        batch_size=32,\n",
        "        class_mode='categorical',\n",
        "        shuffle=False)\n",
        "\n",
        "class_dictionary = train_generator.class_indices\n",
        "sorted_class_dictionary = OrderedDict(sorted(class_dictionary.items()))\n",
        "sorted_class_dictionary = sorted_class_dictionary.values()\n",
        "print(sorted_class_dictionary)"
      ],
      "execution_count": 14,
      "outputs": [
        {
          "output_type": "stream",
          "text": [
            "Found 0 images belonging to 0 classes.\n",
            "odict_values([0, 1, 2, 3, 4, 5, 6, 7, 8, 9])\n"
          ],
          "name": "stdout"
        }
      ]
    },
    {
      "metadata": {
        "id": "slBAlvHyRfJY",
        "colab_type": "code",
        "outputId": "0874f083-8a93-4104-a9d3-22ce0584d95e",
        "colab": {
          "base_uri": "https://localhost:8080/",
          "height": 190
        }
      },
      "cell_type": "code",
      "source": [
        "# Fine-tuning the model:  # it will take time\n",
        "model.fit_generator(\n",
        "        train_generator,\n",
        "        samples_per_epoch=nb_train_samples,\n",
        "        nb_epoch=nb_epoch,\n",
        "        validation_data=train_generator,\n",
        "        nb_val_samples=nb_train_samples)\n",
        "        \n",
        "model.save_weights(whole_model_weights_path)\n",
        "\n",
        "aux = model.predict_generator(test_generator, nb_test_samples)\n",
        "predictions = np.zeros((nb_test_samples, 10))\n"
      ],
      "execution_count": 0,
      "outputs": [
        {
          "output_type": "stream",
          "text": [
            "/usr/local/lib/python3.6/dist-packages/ipykernel_launcher.py:6: UserWarning: The semantics of the Keras 2 argument `steps_per_epoch` is not the same as the Keras 1 argument `samples_per_epoch`. `steps_per_epoch` is the number of batches to draw from the generator at each epoch. Basically steps_per_epoch = samples_per_epoch/batch_size. Similarly `nb_val_samples`->`validation_steps` and `val_samples`->`steps` arguments have changed. Update your method calls accordingly.\n",
            "  \n",
            "/usr/local/lib/python3.6/dist-packages/ipykernel_launcher.py:6: UserWarning: Update your `fit_generator` call to the Keras 2 API: `fit_generator(<keras_pre..., validation_data=<keras_pre..., steps_per_epoch=700, epochs=80, validation_steps=22424)`\n",
            "  \n"
          ],
          "name": "stderr"
        },
        {
          "output_type": "stream",
          "text": [
            "WARNING:tensorflow:From /usr/local/lib/python3.6/dist-packages/tensorflow/python/ops/math_ops.py:3066: to_int32 (from tensorflow.python.ops.math_ops) is deprecated and will be removed in a future version.\n",
            "Instructions for updating:\n",
            "Use tf.cast instead.\n",
            "Epoch 1/80\n",
            " 15/700 [..............................] - ETA: 14:33:40 - loss: 14.7237 - mean_squared_logarithmic_error: 0.0437 - acc: 0.0125"
          ],
          "name": "stdout"
        }
      ]
    },
    {
      "metadata": {
        "id": "i8QdVSaHTDFO",
        "colab_type": "code",
        "outputId": "f5f828d5-cf46-4392-f710-f6482d19b338",
        "colab": {
          "base_uri": "https://localhost:8080/",
          "height": 248
        }
      },
      "cell_type": "code",
      "source": [
        "# Rearranging the predictions:\n",
        "\n",
        "ord = [5, 0, 6, 2, 7, 9, 1, 4, 8, 3]\n",
        "\n",
        "for n in range(10):\n",
        "    i = ord[n]\n",
        "    print(i)\n",
        "    print(aux[:, i])\n",
        "    predictions[:, n] = aux[:, i]\n",
        "\n",
        "# Trick to improve the multi-class logarithmic loss (the evaluation metric of state-farm-distracted-driver-detection from Keras):\n",
        "\n",
        "predictions = 0.985 * predictions + 0.015\n"
      ],
      "execution_count": 0,
      "outputs": [
        {
          "output_type": "stream",
          "text": [
            "5\n"
          ],
          "name": "stdout"
        },
        {
          "output_type": "error",
          "ename": "NameError",
          "evalue": "ignored",
          "traceback": [
            "\u001b[0;31m---------------------------------------------------------------------------\u001b[0m",
            "\u001b[0;31mNameError\u001b[0m                                 Traceback (most recent call last)",
            "\u001b[0;32m<ipython-input-2-496eab0a847d>\u001b[0m in \u001b[0;36m<module>\u001b[0;34m()\u001b[0m\n\u001b[1;32m      5\u001b[0m     \u001b[0mi\u001b[0m \u001b[0;34m=\u001b[0m \u001b[0mord\u001b[0m\u001b[0;34m[\u001b[0m\u001b[0mn\u001b[0m\u001b[0;34m]\u001b[0m\u001b[0;34m\u001b[0m\u001b[0;34m\u001b[0m\u001b[0m\n\u001b[1;32m      6\u001b[0m     \u001b[0mprint\u001b[0m\u001b[0;34m(\u001b[0m\u001b[0mi\u001b[0m\u001b[0;34m)\u001b[0m\u001b[0;34m\u001b[0m\u001b[0;34m\u001b[0m\u001b[0m\n\u001b[0;32m----> 7\u001b[0;31m     \u001b[0mprint\u001b[0m\u001b[0;34m(\u001b[0m\u001b[0maux\u001b[0m\u001b[0;34m[\u001b[0m\u001b[0;34m:\u001b[0m\u001b[0;34m,\u001b[0m \u001b[0mi\u001b[0m\u001b[0;34m]\u001b[0m\u001b[0;34m)\u001b[0m\u001b[0;34m\u001b[0m\u001b[0;34m\u001b[0m\u001b[0m\n\u001b[0m\u001b[1;32m      8\u001b[0m     \u001b[0mpredictions\u001b[0m\u001b[0;34m[\u001b[0m\u001b[0;34m:\u001b[0m\u001b[0;34m,\u001b[0m \u001b[0mn\u001b[0m\u001b[0;34m]\u001b[0m \u001b[0;34m=\u001b[0m \u001b[0maux\u001b[0m\u001b[0;34m[\u001b[0m\u001b[0;34m:\u001b[0m\u001b[0;34m,\u001b[0m \u001b[0mi\u001b[0m\u001b[0;34m]\u001b[0m\u001b[0;34m\u001b[0m\u001b[0;34m\u001b[0m\u001b[0m\n\u001b[1;32m      9\u001b[0m \u001b[0;34m\u001b[0m\u001b[0m\n",
            "\u001b[0;31mNameError\u001b[0m: name 'aux' is not defined"
          ]
        }
      ]
    },
    {
      "metadata": {
        "id": "Uzso71pzTFJd",
        "colab_type": "code",
        "colab": {}
      },
      "cell_type": "code",
      "source": [
        "def get_im(path, img_width, img_height, color_type=1):\n",
        "    if color_type == 1:\n",
        "        img = cv2.imread(path, 0)\n",
        "    elif color_type == 3:\n",
        "        img = cv2.imread(path)\n",
        "    # Reduce size\n",
        "    resized = cv2.resize(img, (img_height, img_width))\n",
        "    return resized\n"
      ],
      "execution_count": 0,
      "outputs": []
    },
    {
      "metadata": {
        "id": "yshEkZh8TKWU",
        "colab_type": "code",
        "colab": {}
      },
      "cell_type": "code",
      "source": [
        "def load_test(img_width, img_height, color_type=1):\n",
        "    print('Read test images')\n",
        "    path = os.path.join(test_images_path, '*.jpg')\n",
        "    files = glob.glob(path)\n",
        "    X_test = []\n",
        "    X_test_id = []\n",
        "    total = 0\n",
        "    thr = math.floor(len(files)/10)\n",
        "    for fl in files:\n",
        "        flbase = os.path.basename(fl)\n",
        "        img = get_im(fl, img_width, img_height, color_type)\n",
        "        X_test.append(img)\n",
        "        X_test_id.append(flbase)\n",
        "        total += 1\n",
        "        if total % thr == 0:\n",
        "            print('Read {} images from {}'.format(total, len(files)))\n",
        "\n",
        "    return X_test, X_test_id\n",
        "\n",
        "X_test, test_id = load_test(img_width, img_height, color_type_global)\n"
      ],
      "execution_count": 0,
      "outputs": []
    },
    {
      "metadata": {
        "id": "8KN4gW2eTR5A",
        "colab_type": "code",
        "colab": {}
      },
      "cell_type": "code",
      "source": [
        "def create_submission(predictions, test_id):\n",
        "    result1 = pd.DataFrame(predictions, columns=['c0', 'c1', 'c2', 'c3',\n",
        "                                                 'c4', 'c5', 'c6', 'c7',\n",
        "                                                 'c8', 'c9'])\n",
        "    result1.loc[:, 'img'] = pd.Series(test_id, index=result1.index)\n",
        "    now = datetime.datetime.now()\n",
        "    if not os.path.isdir('subm'):\n",
        "        os.mkdir('subm')\n",
        "    suffix = '_' + str(now.strftime(\"%Y-%m-%d-%H-%M\"))\n",
        "    sub_file = os.path.join('subm', 'submission_' + suffix + '.csv')\n",
        "    result1.to_csv(sub_file, index=False)\n",
        "\n",
        "create_submission(predictions, test_id)\n"
      ],
      "execution_count": 0,
      "outputs": []
    }
  ]
}